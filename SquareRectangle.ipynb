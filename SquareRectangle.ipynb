{
 "cells": [
  {
   "cell_type": "code",
   "execution_count": 1,
   "id": "faedcc2f-add8-4e88-98b6-684ff6527d39",
   "metadata": {
    "tags": []
   },
   "outputs": [],
   "source": [
    "import torch\n",
    "import numpy as np\n",
    "import random\n",
    "from relaxed_gconv import RelaxedRotCNN2d\n",
    "from utils import train_model\n",
    "import matplotlib.pyplot as plt\n",
    "device = torch.device(\"cuda\" if torch.cuda.is_available() else \"cpu\")"
   ]
  },
  {
   "cell_type": "code",
   "execution_count": 2,
   "id": "3786035d-c113-4d55-88d5-c8bc874dd40a",
   "metadata": {
    "tags": []
   },
   "outputs": [],
   "source": [
    "torch.manual_seed(0)\n",
    "random.seed(0)\n",
    "np.random.seed(0)"
   ]
  },
  {
   "cell_type": "markdown",
   "id": "f15a693f-b8f2-42c8-b4f6-0a9d73faa384",
   "metadata": {},
   "source": [
    "## 1. Create Synthetic Data"
   ]
  },
  {
   "cell_type": "code",
   "execution_count": 3,
   "id": "43ad06f4-e574-4d0c-8981-8be9d7b81e9f",
   "metadata": {
    "tags": []
   },
   "outputs": [],
   "source": [
    "# D4\n",
    "square_image = torch.zeros((9,9))\n",
    "square_image[2,2] = 1.0\n",
    "square_image[2,6] = 1.0\n",
    "square_image[6,2] = 1.0\n",
    "square_image[6,6] = 1.0\n",
    "square_image = square_image[None, None]\n",
    "\n",
    "# D2\n",
    "rect_image = torch.zeros((9,9))\n",
    "rect_image[1,3] = 1.0\n",
    "rect_image[1,5] = 1.0\n",
    "rect_image[7,3] = 1.0\n",
    "rect_image[7,5] = 1.0\n",
    "rect_image = rect_image[None, None]\n",
    "\n",
    "# Random\n",
    "rand_image = torch.zeros((9,9))\n",
    "rand_image[1,3] = 1.0\n",
    "rand_image[1,7] = 1.0\n",
    "rand_image[7,3] = 1.0\n",
    "rand_image[7,5] = 1.0\n",
    "rand_image = rand_image[None, None]"
   ]
  },
  {
   "cell_type": "markdown",
   "id": "65edd1df-6a90-45d4-b5d9-b2c8a94696ce",
   "metadata": {},
   "source": [
    "##  2. Finding Symmetry Breaking with ***Relaxed*** Group Convolution"
   ]
  },
  {
   "cell_type": "code",
   "execution_count": 4,
   "id": "ff4515e6",
   "metadata": {
    "tags": []
   },
   "outputs": [
    {
     "name": "stderr",
     "output_type": "stream",
     "text": [
      "/global/homes/r/rwang2/.conda/envs/e3nn/lib/python3.9/site-packages/torch/nn/functional.py:4236: UserWarning: Default grid_sample and affine_grid behavior has changed to align_corners=False since 1.3.0. Please specify align_corners=True if the old behavior is desired. See the documentation of grid_sample for details.\n",
      "  warnings.warn(\n"
     ]
    },
    {
     "name": "stdout",
     "output_type": "stream",
     "text": [
      "Epoch 1 | MSE: 0.04952\n",
      "Epoch 51 | MSE: 0.00003\n",
      "Epoch 1 | MSE: 0.04939\n",
      "Epoch 51 | MSE: 0.01529\n",
      "Epoch 1 | MSE: 0.04924\n",
      "Epoch 51 | MSE: 0.00719\n"
     ]
    }
   ],
   "source": [
    "# Square to Square\n",
    "Relaxed_GConvNet_SS = RelaxedRotCNN2d(in_channels = 1, out_channels = 1, kernel_size = 3, hidden_dim = 4, group_order = 4, num_gconvs = 3, num_filter_banks=1).to(device)\n",
    "__ = train_model(model = Relaxed_GConvNet_SS, inp = square_image.to(device), tgt = square_image.to(device))\n",
    "\n",
    "# # Square to Rectangle\n",
    "Relaxed_GConvNet_SR = RelaxedRotCNN2d(in_channels = 1, out_channels = 1, kernel_size = 3, hidden_dim = 8, group_order = 4, num_gconvs = 3, num_filter_banks=1).to(device)\n",
    "__ = train_model(model = Relaxed_GConvNet_SR, inp = square_image.to(device), tgt = rect_image.to(device))\n",
    "\n",
    "# # Square to Non-symmetric shape\n",
    "Relaxed_GConvNet_SN = RelaxedRotCNN2d(in_channels = 1, out_channels = 1, kernel_size = 3, hidden_dim = 8, group_order = 4, num_gconvs = 3, num_filter_banks=1).to(device)\n",
    "__ = train_model(model = Relaxed_GConvNet_SN, inp = square_image.to(device), tgt = rand_image.to(device))"
   ]
  },
  {
   "cell_type": "code",
   "execution_count": 5,
   "id": "0e4c061c-243b-4865-873a-878ed54a881c",
   "metadata": {
    "tags": []
   },
   "outputs": [
    {
     "data": {
      "image/png": "[encoded data removed]",
      "text/plain": [
       "<Figure size 1000x500 with 3 Axes>"
      ]
     },
     "metadata": {},
     "output_type": "display_data"
    }
   ],
   "source": [
    "relaxed_weights_ss = torch.stack([Relaxed_GConvNet_SS.gconvs[i].relaxed_weights.data.reshape(-1) for i in range(3)]).T.cpu().data.numpy()\n",
    "relaxed_weights_sr = torch.stack([Relaxed_GConvNet_SR.gconvs[i].relaxed_weights.data.reshape(-1) for i in range(3)]).T.cpu().data.numpy()\n",
    "relaxed_weights_sn = torch.stack([Relaxed_GConvNet_SN.gconvs[i].relaxed_weights.data.reshape(-1) for i in range(3)]).T.cpu().data.numpy()\n",
    "relaxed_weights = [relaxed_weights_ss, relaxed_weights_sr, relaxed_weights_sn]\n",
    "titles = [\"Square\", \"Rectangle\", \"Random\"]\n",
    "fig=plt.figure(figsize=(10, 5))\n",
    "for i in range(1, 4):\n",
    "    fig.add_subplot(1, 3, i)\n",
    "    plt.imshow(relaxed_weights[i-1], cmap = 'Blues')\n",
    "    plt.xticks(np.arange(0.5,3,1), color='w')\n",
    "    plt.yticks(np.arange(0.5,4,1), color='w')\n",
    "    plt.text(-0.9, 0.1, \"$i$\", fontsize=20)\n",
    "    plt.text(-0.9, 1.1, \"$g$\", fontsize=20)\n",
    "    plt.text(-0.9, 2.1, \"$g^2$\", fontsize=20)\n",
    "    plt.text(-0.9, 3.1, \"$g^3$\", fontsize=20)\n",
    "    plt.text(-0.3, -0.6, \"Layer 1\", fontsize=13)\n",
    "    plt.text(0.7, -0.6, \"Layer 2\", fontsize=13)\n",
    "    plt.text(1.7, -0.6, \"Layer 3\", fontsize=13)\n",
    "    plt.grid(color='black', linestyle='-', linewidth=2)\n",
    "    plt.title(titles[i-1], size = 18, pad=25)\n",
    "plt.show()"
   ]
  },
  {
   "cell_type": "markdown",
   "id": "743826c1-5035-4f1a-b7b0-7b47c51fb94a",
   "metadata": {},
   "source": [
    "## 3. Projecting the relaxed weights onto the irreps of the group"
   ]
  },
  {
   "cell_type": "code",
   "execution_count": 6,
   "id": "37633291-3388-42ff-a5d3-89577761c20d",
   "metadata": {
    "tags": []
   },
   "outputs": [],
   "source": [
    "# Character Table\n",
    "c4_ft = np.array([[1, 1, 1, 1],\n",
    "                  [1, -1, 1, -1],\n",
    "                  [1, 0+1j, -1, 0-1j],\n",
    "                  [1, 0-1j, -1, 0+1j]])\n",
    "\n",
    "fourier_components_ss = np.round(relaxed_weights_ss[:,0] @ c4_ft.T, decimals = 3)\n",
    "fourier_components_sr = np.round(relaxed_weights_sr[:,0] @ c4_ft.T, decimals = 3)\n",
    "fourier_components_sn = np.round(relaxed_weights_sn[:,0] @ c4_ft.T, decimals = 3)"
   ]
  },
  {
   "cell_type": "markdown",
   "id": "c8703287-44ba-4352-b983-b1634d3c94df",
   "metadata": {
    "tags": []
   },
   "source": [
    "#### Only trivial irrep A is non zero when the output is an square"
   ]
  },
  {
   "cell_type": "code",
   "execution_count": 7,
   "id": "c21919f6-536b-4a2b-8a5b-f081ae6a237a",
   "metadata": {},
   "outputs": [
    {
     "data": {
      "text/plain": [
       "array([4.029+0.j, 0.   +0.j, 0.   +0.j, 0.   +0.j])"
      ]
     },
     "execution_count": 7,
     "metadata": {},
     "output_type": "execute_result"
    }
   ],
   "source": [
    "fourier_components_ss"
   ]
  },
  {
   "cell_type": "markdown",
   "id": "367d798a-d642-41ea-92cd-6258450513d6",
   "metadata": {},
   "source": [
    "#### Both A and B are non zero when the output is a rectangle"
   ]
  },
  {
   "cell_type": "code",
   "execution_count": 8,
   "id": "06303d8e-8e88-44f2-a2db-0eea43caed27",
   "metadata": {
    "tags": []
   },
   "outputs": [
    {
     "data": {
      "text/plain": [
       "array([4.047+0.j, 1.867+0.j, 0.   -0.j, 0.   +0.j])"
      ]
     },
     "execution_count": 8,
     "metadata": {},
     "output_type": "execute_result"
    }
   ],
   "source": [
    "fourier_components_sr"
   ]
  },
  {
   "cell_type": "code",
   "execution_count": 25,
   "id": "e1f1988e-457c-474a-9858-63f8966dd7b2",
   "metadata": {
    "tags": []
   },
   "outputs": [],
   "source": [
    "def visulize_fourier_components(fourier_compnents_mag):\n",
    "    # fourier_compnents = np.round(np.matmul(fourier_transform_matrix, signal), 4)\n",
    "    # fourier_compnents_mag = []\n",
    "    # irreps_dims = [1, 1, 1, 1]\n",
    "    # index = 0\n",
    "    # for i in range(4):\n",
    "    #     if irreps_dims[i] > 1:\n",
    "    #         fourier_compnents_mag.append(np.linalg.norm(fourier_compnents[index:index+irreps_dims[i]]))\n",
    "    #     else:\n",
    "    #         fourier_compnents_mag.append(fourier_compnents[index])\n",
    "    #     index += irreps_dims[i]\n",
    "\n",
    "    fig, ax = plt.subplots(figsize=(3, 2))\n",
    "    # plt.title(inp + r\"$\\rightarrow$\" + out , size = 12)#+ \"(Abs + Log scale)\"\n",
    "    ax.tick_params(bottom=False, left=False)\n",
    "    xlabel = [\"A\", \"B\", \"E\", \"E\"]\n",
    "    ax.bar(x = np.arange(4), height = np.abs(fourier_compnents_mag), tick_label = xlabel)\n",
    "    fig.tight_layout()\n",
    "    # plt.yscale('log') \n",
    "    plt.savefig('3.png', bbox_inches='tight', dpi = 200)\n",
    "    plt.show()"
   ]
  },
  {
   "cell_type": "code",
   "execution_count": 22,
   "id": "d8130c6e-1b38-4db1-b195-3950a36f279e",
   "metadata": {
    "tags": []
   },
   "outputs": [
    {
     "data": {
      "image/png": "[encoded data removed]",
      "text/plain": [
       "<Figure size 300x200 with 1 Axes>"
      ]
     },
     "metadata": {},
     "output_type": "display_data"
    }
   ],
   "source": [
    "visulize_fourier_components(fourier_components_ss)"
   ]
  },
  {
   "cell_type": "code",
   "execution_count": 24,
   "id": "f3b43d59-d20f-4f6f-868a-d48eeb30df8c",
   "metadata": {
    "tags": []
   },
   "outputs": [
    {
     "data": {
      "image/png": "[encoded data removed]",
      "text/plain": [
       "<Figure size 300x200 with 1 Axes>"
      ]
     },
     "metadata": {},
     "output_type": "display_data"
    }
   ],
   "source": [
    "visulize_fourier_components(fourier_components_sr)"
   ]
  },
  {
   "cell_type": "code",
   "execution_count": 26,
   "id": "2e1c630d-266c-4eac-853d-293b9c5108cd",
   "metadata": {
    "tags": []
   },
   "outputs": [
    {
     "data": {
      "image/png": "[encoded data removed]",
      "text/plain": [
       "<Figure size 300x200 with 1 Axes>"
      ]
     },
     "metadata": {},
     "output_type": "display_data"
    }
   ],
   "source": [
    "visulize_fourier_components(fourier_components_sn)"
   ]
  },
  {
   "cell_type": "code",
   "execution_count": null,
   "id": "4641c043-e6be-4e5c-b832-df8e30da9b5f",
   "metadata": {},
   "outputs": [],
   "source": []
  }
 ],
 "metadata": {
  "kernelspec": {
   "display_name": "e3nn",
   "language": "python",
   "name": "e3nn"
  },
  "language_info": {
   "codemirror_mode": {
    "name": "ipython",
    "version": 3
   },
   "file_extension": ".py",
   "mimetype": "text/x-python",
   "name": "python",
   "nbconvert_exporter": "python",
   "pygments_lexer": "ipython3",
   "version": "3.9.17"
  }
 },
 "nbformat": 4,
 "nbformat_minor": 5
}
